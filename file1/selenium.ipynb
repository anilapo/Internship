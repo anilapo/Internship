{
 "cells": [
  {
   "cell_type": "code",
   "execution_count": null,
   "id": "db3d5a60",
   "metadata": {},
   "outputs": [],
   "source": [
    "!pip install selenium"
   ]
  },
  {
   "cell_type": "code",
   "execution_count": 90,
   "id": "13b252bd",
   "metadata": {},
   "outputs": [],
   "source": [
    "import selenium\n"
   ]
  },
  {
   "cell_type": "code",
   "execution_count": 91,
   "id": "0b2db739",
   "metadata": {},
   "outputs": [],
   "source": [
    "import pandas as pd"
   ]
  },
  {
   "cell_type": "code",
   "execution_count": 92,
   "id": "fbbd47ef",
   "metadata": {},
   "outputs": [],
   "source": [
    "from selenium import webdriver\n"
   ]
  },
  {
   "cell_type": "code",
   "execution_count": 93,
   "id": "c312f281",
   "metadata": {},
   "outputs": [],
   "source": [
    "import warnings\n"
   ]
  },
  {
   "cell_type": "code",
   "execution_count": 94,
   "id": "59ca5f56",
   "metadata": {},
   "outputs": [],
   "source": [
    "warnings.filterwarnings('ignore')"
   ]
  },
  {
   "cell_type": "code",
   "execution_count": 95,
   "id": "6dd6fe84",
   "metadata": {},
   "outputs": [],
   "source": [
    "from selenium.webdriver.common.by import By"
   ]
  },
  {
   "cell_type": "code",
   "execution_count": 96,
   "id": "3fa6ef84",
   "metadata": {},
   "outputs": [],
   "source": [
    "driver = webdriver.Chrome()"
   ]
  },
  {
   "cell_type": "code",
   "execution_count": 8,
   "id": "42e15d6f",
   "metadata": {},
   "outputs": [],
   "source": [
    "# Q1."
   ]
  },
  {
   "cell_type": "code",
   "execution_count": 9,
   "id": "47c0c0ba",
   "metadata": {},
   "outputs": [],
   "source": [
    "#first get the web page https://www.naukri.com/\n",
    "driver.get('https://www.naukri.com/');  "
   ]
  },
  {
   "cell_type": "code",
   "execution_count": 10,
   "id": "50c3e161",
   "metadata": {
    "scrolled": true
   },
   "outputs": [
    {
     "name": "stdout",
     "output_type": "stream",
     "text": [
      "Requirement already satisfied: urllib3==1.26.12 in ./.virtualenvs/myvenv/lib/python3.7/site-packages (1.26.12)\n",
      "Note: you may need to restart the kernel to use updated packages.\n"
     ]
    }
   ],
   "source": [
    "pip install urllib3==1.26.12\n"
   ]
  },
  {
   "cell_type": "code",
   "execution_count": 11,
   "id": "a773aa8d",
   "metadata": {},
   "outputs": [],
   "source": [
    "#Enter “Data Scientist” in “Skill, Designations, and Companies” field.\n",
    "designation = driver.find_element(By.CLASS_NAME,\"suggestor-input \")\n",
    "designation.send_keys(\"Data Scientist\")"
   ]
  },
  {
   "cell_type": "code",
   "execution_count": 12,
   "id": "ef920870",
   "metadata": {},
   "outputs": [],
   "source": [
    "#The location filter to be used is “Delhi/NCR”.\n",
    "location = driver.find_element(By.XPATH,\"/html/body/div[1]/div[7]/div/div/div[5]/div/div/div/div[1]/div/input\")\n",
    "location.send_keys(\"Delhi/NCR\")"
   ]
  },
  {
   "cell_type": "code",
   "execution_count": 13,
   "id": "17bb029a",
   "metadata": {},
   "outputs": [],
   "source": [
    "#click the search button.\n",
    "search = driver.find_element(By.XPATH,\"/html/body/div[1]/div[7]/div/div/div[6]\")\n",
    "search.click()"
   ]
  },
  {
   "cell_type": "code",
   "execution_count": 14,
   "id": "f2f67e62",
   "metadata": {},
   "outputs": [],
   "source": [
    "#scrape the job-title, job-location, company name, experience required\n",
    "job_title = []\n",
    "job_location = []\n",
    "company_name = []\n",
    "experience = []"
   ]
  },
  {
   "cell_type": "code",
   "execution_count": 15,
   "id": "2381963c",
   "metadata": {},
   "outputs": [],
   "source": [
    "#scrape the job-title\n",
    "job_titles = driver.find_elements(By.XPATH,'//div[@class=\"cust-job-tuple layout-wrapper lay-2 sjw__tuple \"]/div/a')\n",
    "for i in job_titles:\n",
    "    title=i.text\n",
    "    job_title.append(title)"
   ]
  },
  {
   "cell_type": "code",
   "execution_count": 16,
   "id": "80a76ab2",
   "metadata": {},
   "outputs": [],
   "source": [
    "#scrape the job_location\n",
    "job_locations = driver.find_elements(By.XPATH,'//span[@class=\"locWdth\"]')\n",
    "for i in job_locations:\n",
    "    location=i.text\n",
    "    job_location.append(location)"
   ]
  },
  {
   "cell_type": "code",
   "execution_count": 17,
   "id": "2af75fbd",
   "metadata": {},
   "outputs": [],
   "source": [
    "#scrape the company_name\n",
    "company_names = driver.find_elements(By.XPATH,'//div[@class=\" row2\"]/span/a[1]')\n",
    "for i in company_names:\n",
    "    company=i.text\n",
    "    company_name.append(company)"
   ]
  },
  {
   "cell_type": "code",
   "execution_count": 18,
   "id": "8dd25984",
   "metadata": {},
   "outputs": [],
   "source": [
    "#scrape the experience\n",
    "experiences = driver.find_elements(By.XPATH,'//span[@class=\"expwdth\"]')\n",
    "for i in experiences:\n",
    "    exp=i.text\n",
    "    experience.append(exp)"
   ]
  },
  {
   "cell_type": "code",
   "execution_count": 19,
   "id": "1e5904ac",
   "metadata": {},
   "outputs": [
    {
     "name": "stdout",
     "output_type": "stream",
     "text": [
      "20 20 20 20\n"
     ]
    }
   ],
   "source": [
    "print(len(job_title),len(job_location),len(company_name),len(experience))"
   ]
  },
  {
   "cell_type": "code",
   "execution_count": 20,
   "id": "38732ef0",
   "metadata": {},
   "outputs": [
    {
     "data": {
      "text/html": [
       "<div>\n",
       "<style scoped>\n",
       "    .dataframe tbody tr th:only-of-type {\n",
       "        vertical-align: middle;\n",
       "    }\n",
       "\n",
       "    .dataframe tbody tr th {\n",
       "        vertical-align: top;\n",
       "    }\n",
       "\n",
       "    .dataframe thead th {\n",
       "        text-align: right;\n",
       "    }\n",
       "</style>\n",
       "<table border=\"1\" class=\"dataframe\">\n",
       "  <thead>\n",
       "    <tr style=\"text-align: right;\">\n",
       "      <th></th>\n",
       "      <th>Title</th>\n",
       "      <th>Location</th>\n",
       "      <th>Company Name</th>\n",
       "      <th>Experience</th>\n",
       "    </tr>\n",
       "  </thead>\n",
       "  <tbody>\n",
       "    <tr>\n",
       "      <th>0</th>\n",
       "      <td>Senior Data Scientist, Reporting</td>\n",
       "      <td>Kolkata, Mumbai, New Delhi, Hyderabad/Secunder...</td>\n",
       "      <td>Coursera</td>\n",
       "      <td>6-7 Yrs</td>\n",
       "    </tr>\n",
       "    <tr>\n",
       "      <th>1</th>\n",
       "      <td>Data Scientist, Marketing</td>\n",
       "      <td>Kolkata, Mumbai, New Delhi, Hyderabad/Secunder...</td>\n",
       "      <td>Coursera</td>\n",
       "      <td>4-6 Yrs</td>\n",
       "    </tr>\n",
       "    <tr>\n",
       "      <th>2</th>\n",
       "      <td>Data Scientist</td>\n",
       "      <td>Kolkata, Mumbai, New Delhi, Hyderabad, Pune, C...</td>\n",
       "      <td>Ford</td>\n",
       "      <td>3-6 Yrs</td>\n",
       "    </tr>\n",
       "    <tr>\n",
       "      <th>3</th>\n",
       "      <td>AI Data Scientist</td>\n",
       "      <td>Kolkata, Mumbai, New Delhi, Hyderabad, Pune, C...</td>\n",
       "      <td>Ford</td>\n",
       "      <td>2-6 Yrs</td>\n",
       "    </tr>\n",
       "    <tr>\n",
       "      <th>4</th>\n",
       "      <td>GenAI Data Scientist</td>\n",
       "      <td>Kolkata, Mumbai, New Delhi, Hyderabad, Pune, C...</td>\n",
       "      <td>Ford</td>\n",
       "      <td>5-6 Yrs</td>\n",
       "    </tr>\n",
       "    <tr>\n",
       "      <th>5</th>\n",
       "      <td>Data Scientist</td>\n",
       "      <td>Mumbai, Hyderabad, Gurugram</td>\n",
       "      <td>Deloitte</td>\n",
       "      <td>3-6 Yrs</td>\n",
       "    </tr>\n",
       "    <tr>\n",
       "      <th>6</th>\n",
       "      <td>DS - NLP Expert</td>\n",
       "      <td>Hyderabad, Telangana, Gurugram, Haryana, Banga...</td>\n",
       "      <td>Genpact</td>\n",
       "      <td>6-11 Yrs</td>\n",
       "    </tr>\n",
       "    <tr>\n",
       "      <th>7</th>\n",
       "      <td>Generative AI Data Scientist</td>\n",
       "      <td>Hyderabad, Gurugram, Bengaluru</td>\n",
       "      <td>Genpact</td>\n",
       "      <td>8-13 Yrs</td>\n",
       "    </tr>\n",
       "    <tr>\n",
       "      <th>8</th>\n",
       "      <td>NLP Data Scientist - Real World Data (RWD)</td>\n",
       "      <td>Kolkata, Mumbai, New Delhi, Hyderabad/Secunder...</td>\n",
       "      <td>Agilite Global Solutions</td>\n",
       "      <td>7-8 Yrs</td>\n",
       "    </tr>\n",
       "    <tr>\n",
       "      <th>9</th>\n",
       "      <td>Data Analytics-Corporate HR</td>\n",
       "      <td>Kolkata, Mumbai, New Delhi, Hyderabad/Secunder...</td>\n",
       "      <td>Tata Communications</td>\n",
       "      <td>3-6 Yrs</td>\n",
       "    </tr>\n",
       "    <tr>\n",
       "      <th>10</th>\n",
       "      <td>Opportunity For Data Science- Gurugram/Kolkata...</td>\n",
       "      <td>Hybrid - Kolkata, West Bengal, Gurugram, Benga...</td>\n",
       "      <td>Genpact</td>\n",
       "      <td>8-13 Yrs</td>\n",
       "    </tr>\n",
       "    <tr>\n",
       "      <th>11</th>\n",
       "      <td>Data Scientist</td>\n",
       "      <td>Noida, Bengaluru</td>\n",
       "      <td>Ericsson</td>\n",
       "      <td>5-10 Yrs</td>\n",
       "    </tr>\n",
       "    <tr>\n",
       "      <th>12</th>\n",
       "      <td>Data Scientist</td>\n",
       "      <td>Kolkata, Mumbai, New Delhi, Hyderabad, Pune, C...</td>\n",
       "      <td>Response Informatics</td>\n",
       "      <td>8-9 Yrs</td>\n",
       "    </tr>\n",
       "    <tr>\n",
       "      <th>13</th>\n",
       "      <td>SAS Data Scientist</td>\n",
       "      <td>Delhi / NCR, Mumbai, Bengaluru</td>\n",
       "      <td>Lericon Informatics</td>\n",
       "      <td>2-6 Yrs</td>\n",
       "    </tr>\n",
       "    <tr>\n",
       "      <th>14</th>\n",
       "      <td>Data Scientist</td>\n",
       "      <td>Hybrid - Noida, Uttar Pradesh, Hyderabad, Beng...</td>\n",
       "      <td>HCLTech</td>\n",
       "      <td>10-18 Yrs</td>\n",
       "    </tr>\n",
       "    <tr>\n",
       "      <th>15</th>\n",
       "      <td>Sr . Data Scientist / Manager</td>\n",
       "      <td>Noida, Gurugram, Bengaluru</td>\n",
       "      <td>Novitas Infotech</td>\n",
       "      <td>7-10 Yrs</td>\n",
       "    </tr>\n",
       "    <tr>\n",
       "      <th>16</th>\n",
       "      <td>Data Scientist</td>\n",
       "      <td>Noida, Gurugram, Bengaluru</td>\n",
       "      <td>Novitas Infotech</td>\n",
       "      <td>3-7 Yrs</td>\n",
       "    </tr>\n",
       "    <tr>\n",
       "      <th>17</th>\n",
       "      <td>Data Scientist</td>\n",
       "      <td>Gurugram, Bengaluru</td>\n",
       "      <td>Blackbuck</td>\n",
       "      <td>3-7 Yrs</td>\n",
       "    </tr>\n",
       "    <tr>\n",
       "      <th>18</th>\n",
       "      <td>Data Scientist</td>\n",
       "      <td>Noida</td>\n",
       "      <td>Ericsson</td>\n",
       "      <td>3-7 Yrs</td>\n",
       "    </tr>\n",
       "    <tr>\n",
       "      <th>19</th>\n",
       "      <td>Lotus Interworks - Data Scientist</td>\n",
       "      <td>Delhi / NCR, Kolkata, Mumbai, Hyderabad, Pune,...</td>\n",
       "      <td>Lotus Interworks Inc</td>\n",
       "      <td>1-5 Yrs</td>\n",
       "    </tr>\n",
       "  </tbody>\n",
       "</table>\n",
       "</div>"
      ],
      "text/plain": [
       "                                                Title  \\\n",
       "0                    Senior Data Scientist, Reporting   \n",
       "1                           Data Scientist, Marketing   \n",
       "2                                      Data Scientist   \n",
       "3                                   AI Data Scientist   \n",
       "4                                GenAI Data Scientist   \n",
       "5                                      Data Scientist   \n",
       "6                                     DS - NLP Expert   \n",
       "7                        Generative AI Data Scientist   \n",
       "8          NLP Data Scientist - Real World Data (RWD)   \n",
       "9                         Data Analytics-Corporate HR   \n",
       "10  Opportunity For Data Science- Gurugram/Kolkata...   \n",
       "11                                     Data Scientist   \n",
       "12                                     Data Scientist   \n",
       "13                                 SAS Data Scientist   \n",
       "14                                     Data Scientist   \n",
       "15                      Sr . Data Scientist / Manager   \n",
       "16                                     Data Scientist   \n",
       "17                                     Data Scientist   \n",
       "18                                     Data Scientist   \n",
       "19                  Lotus Interworks - Data Scientist   \n",
       "\n",
       "                                             Location  \\\n",
       "0   Kolkata, Mumbai, New Delhi, Hyderabad/Secunder...   \n",
       "1   Kolkata, Mumbai, New Delhi, Hyderabad/Secunder...   \n",
       "2   Kolkata, Mumbai, New Delhi, Hyderabad, Pune, C...   \n",
       "3   Kolkata, Mumbai, New Delhi, Hyderabad, Pune, C...   \n",
       "4   Kolkata, Mumbai, New Delhi, Hyderabad, Pune, C...   \n",
       "5                         Mumbai, Hyderabad, Gurugram   \n",
       "6   Hyderabad, Telangana, Gurugram, Haryana, Banga...   \n",
       "7                      Hyderabad, Gurugram, Bengaluru   \n",
       "8   Kolkata, Mumbai, New Delhi, Hyderabad/Secunder...   \n",
       "9   Kolkata, Mumbai, New Delhi, Hyderabad/Secunder...   \n",
       "10  Hybrid - Kolkata, West Bengal, Gurugram, Benga...   \n",
       "11                                   Noida, Bengaluru   \n",
       "12  Kolkata, Mumbai, New Delhi, Hyderabad, Pune, C...   \n",
       "13                     Delhi / NCR, Mumbai, Bengaluru   \n",
       "14  Hybrid - Noida, Uttar Pradesh, Hyderabad, Beng...   \n",
       "15                         Noida, Gurugram, Bengaluru   \n",
       "16                         Noida, Gurugram, Bengaluru   \n",
       "17                                Gurugram, Bengaluru   \n",
       "18                                              Noida   \n",
       "19  Delhi / NCR, Kolkata, Mumbai, Hyderabad, Pune,...   \n",
       "\n",
       "                Company Name Experience  \n",
       "0                   Coursera    6-7 Yrs  \n",
       "1                   Coursera    4-6 Yrs  \n",
       "2                       Ford    3-6 Yrs  \n",
       "3                       Ford    2-6 Yrs  \n",
       "4                       Ford    5-6 Yrs  \n",
       "5                   Deloitte    3-6 Yrs  \n",
       "6                    Genpact   6-11 Yrs  \n",
       "7                    Genpact   8-13 Yrs  \n",
       "8   Agilite Global Solutions    7-8 Yrs  \n",
       "9        Tata Communications    3-6 Yrs  \n",
       "10                   Genpact   8-13 Yrs  \n",
       "11                  Ericsson   5-10 Yrs  \n",
       "12      Response Informatics    8-9 Yrs  \n",
       "13       Lericon Informatics    2-6 Yrs  \n",
       "14                   HCLTech  10-18 Yrs  \n",
       "15          Novitas Infotech   7-10 Yrs  \n",
       "16          Novitas Infotech    3-7 Yrs  \n",
       "17                 Blackbuck    3-7 Yrs  \n",
       "18                  Ericsson    3-7 Yrs  \n",
       "19      Lotus Interworks Inc    1-5 Yrs  "
      ]
     },
     "execution_count": 20,
     "metadata": {},
     "output_type": "execute_result"
    }
   ],
   "source": [
    "import pandas as pd\n",
    "df = pd.DataFrame({'Title':job_title,'Location':job_location,'Company Name':company_name, 'Experience':experience})\n",
    "df"
   ]
  },
  {
   "cell_type": "code",
   "execution_count": 21,
   "id": "36e5a924",
   "metadata": {},
   "outputs": [
    {
     "data": {
      "text/html": [
       "<div>\n",
       "<style scoped>\n",
       "    .dataframe tbody tr th:only-of-type {\n",
       "        vertical-align: middle;\n",
       "    }\n",
       "\n",
       "    .dataframe tbody tr th {\n",
       "        vertical-align: top;\n",
       "    }\n",
       "\n",
       "    .dataframe thead th {\n",
       "        text-align: right;\n",
       "    }\n",
       "</style>\n",
       "<table border=\"1\" class=\"dataframe\">\n",
       "  <thead>\n",
       "    <tr style=\"text-align: right;\">\n",
       "      <th></th>\n",
       "      <th>Title</th>\n",
       "      <th>Location</th>\n",
       "      <th>Company Name</th>\n",
       "      <th>Experience</th>\n",
       "    </tr>\n",
       "  </thead>\n",
       "  <tbody>\n",
       "    <tr>\n",
       "      <th>0</th>\n",
       "      <td>Senior Data Scientist, Reporting</td>\n",
       "      <td>Kolkata, Mumbai, New Delhi, Hyderabad/Secunder...</td>\n",
       "      <td>Coursera</td>\n",
       "      <td>6-7 Yrs</td>\n",
       "    </tr>\n",
       "    <tr>\n",
       "      <th>1</th>\n",
       "      <td>Data Scientist, Marketing</td>\n",
       "      <td>Kolkata, Mumbai, New Delhi, Hyderabad/Secunder...</td>\n",
       "      <td>Coursera</td>\n",
       "      <td>4-6 Yrs</td>\n",
       "    </tr>\n",
       "    <tr>\n",
       "      <th>2</th>\n",
       "      <td>Data Scientist</td>\n",
       "      <td>Kolkata, Mumbai, New Delhi, Hyderabad, Pune, C...</td>\n",
       "      <td>Ford</td>\n",
       "      <td>3-6 Yrs</td>\n",
       "    </tr>\n",
       "    <tr>\n",
       "      <th>3</th>\n",
       "      <td>AI Data Scientist</td>\n",
       "      <td>Kolkata, Mumbai, New Delhi, Hyderabad, Pune, C...</td>\n",
       "      <td>Ford</td>\n",
       "      <td>2-6 Yrs</td>\n",
       "    </tr>\n",
       "    <tr>\n",
       "      <th>4</th>\n",
       "      <td>GenAI Data Scientist</td>\n",
       "      <td>Kolkata, Mumbai, New Delhi, Hyderabad, Pune, C...</td>\n",
       "      <td>Ford</td>\n",
       "      <td>5-6 Yrs</td>\n",
       "    </tr>\n",
       "    <tr>\n",
       "      <th>5</th>\n",
       "      <td>Data Scientist</td>\n",
       "      <td>Mumbai, Hyderabad, Gurugram</td>\n",
       "      <td>Deloitte</td>\n",
       "      <td>3-6 Yrs</td>\n",
       "    </tr>\n",
       "    <tr>\n",
       "      <th>6</th>\n",
       "      <td>DS - NLP Expert</td>\n",
       "      <td>Hyderabad, Telangana, Gurugram, Haryana, Banga...</td>\n",
       "      <td>Genpact</td>\n",
       "      <td>6-11 Yrs</td>\n",
       "    </tr>\n",
       "    <tr>\n",
       "      <th>7</th>\n",
       "      <td>Generative AI Data Scientist</td>\n",
       "      <td>Hyderabad, Gurugram, Bengaluru</td>\n",
       "      <td>Genpact</td>\n",
       "      <td>8-13 Yrs</td>\n",
       "    </tr>\n",
       "    <tr>\n",
       "      <th>8</th>\n",
       "      <td>NLP Data Scientist - Real World Data (RWD)</td>\n",
       "      <td>Kolkata, Mumbai, New Delhi, Hyderabad/Secunder...</td>\n",
       "      <td>Agilite Global Solutions</td>\n",
       "      <td>7-8 Yrs</td>\n",
       "    </tr>\n",
       "    <tr>\n",
       "      <th>9</th>\n",
       "      <td>Data Analytics-Corporate HR</td>\n",
       "      <td>Kolkata, Mumbai, New Delhi, Hyderabad/Secunder...</td>\n",
       "      <td>Tata Communications</td>\n",
       "      <td>3-6 Yrs</td>\n",
       "    </tr>\n",
       "  </tbody>\n",
       "</table>\n",
       "</div>"
      ],
      "text/plain": [
       "                                        Title  \\\n",
       "0            Senior Data Scientist, Reporting   \n",
       "1                   Data Scientist, Marketing   \n",
       "2                              Data Scientist   \n",
       "3                           AI Data Scientist   \n",
       "4                        GenAI Data Scientist   \n",
       "5                              Data Scientist   \n",
       "6                             DS - NLP Expert   \n",
       "7                Generative AI Data Scientist   \n",
       "8  NLP Data Scientist - Real World Data (RWD)   \n",
       "9                 Data Analytics-Corporate HR   \n",
       "\n",
       "                                            Location  \\\n",
       "0  Kolkata, Mumbai, New Delhi, Hyderabad/Secunder...   \n",
       "1  Kolkata, Mumbai, New Delhi, Hyderabad/Secunder...   \n",
       "2  Kolkata, Mumbai, New Delhi, Hyderabad, Pune, C...   \n",
       "3  Kolkata, Mumbai, New Delhi, Hyderabad, Pune, C...   \n",
       "4  Kolkata, Mumbai, New Delhi, Hyderabad, Pune, C...   \n",
       "5                        Mumbai, Hyderabad, Gurugram   \n",
       "6  Hyderabad, Telangana, Gurugram, Haryana, Banga...   \n",
       "7                     Hyderabad, Gurugram, Bengaluru   \n",
       "8  Kolkata, Mumbai, New Delhi, Hyderabad/Secunder...   \n",
       "9  Kolkata, Mumbai, New Delhi, Hyderabad/Secunder...   \n",
       "\n",
       "               Company Name Experience  \n",
       "0                  Coursera    6-7 Yrs  \n",
       "1                  Coursera    4-6 Yrs  \n",
       "2                      Ford    3-6 Yrs  \n",
       "3                      Ford    2-6 Yrs  \n",
       "4                      Ford    5-6 Yrs  \n",
       "5                  Deloitte    3-6 Yrs  \n",
       "6                   Genpact   6-11 Yrs  \n",
       "7                   Genpact   8-13 Yrs  \n",
       "8  Agilite Global Solutions    7-8 Yrs  \n",
       "9       Tata Communications    3-6 Yrs  "
      ]
     },
     "execution_count": 21,
     "metadata": {},
     "output_type": "execute_result"
    }
   ],
   "source": [
    "#scrape the data for the first 10 jobs results you get and create a dataframe of the scraped data.\n",
    "import pandas as pd\n",
    "df = pd.DataFrame({'Title':job_title,'Location':job_location,'Company Name':company_name, 'Experience':experience})\n",
    "df\n",
    "df_first_10 = df.head(10)\n",
    "df_first_10"
   ]
  },
  {
   "cell_type": "code",
   "execution_count": 27,
   "id": "d310b860",
   "metadata": {},
   "outputs": [],
   "source": [
    "#salary filter to be used is “3-6” lakhs\n",
    "salary = driver.find_element(By.XPATH,\"/html/body/div/div/main/div[1]/div[1]/div/div/div[2]/div[5]/div[2]/div[2]/label/p/span[1]\")\n",
    "salary.click()"
   ]
  },
  {
   "cell_type": "code",
   "execution_count": 28,
   "id": "4a507c76",
   "metadata": {},
   "outputs": [],
   "source": [
    "#The location filter to be used is “Delhi/NCR”\n",
    "location = driver.find_element(By.XPATH,\"/html/body/div/div/main/div[1]/div[1]/div/div/div[2]/div[13]/div[2]/div[1]/label/p/span[1]\")\n",
    "location.click()"
   ]
  },
  {
   "cell_type": "code",
   "execution_count": null,
   "id": "851655fa",
   "metadata": {},
   "outputs": [],
   "source": [
    "#Q2."
   ]
  },
  {
   "cell_type": "code",
   "execution_count": 34,
   "id": "bf5374f5",
   "metadata": {},
   "outputs": [],
   "source": [
    "#get url\n",
    "driver.get('https://www.shine.com/'); "
   ]
  },
  {
   "cell_type": "code",
   "execution_count": 42,
   "id": "0612efd8",
   "metadata": {},
   "outputs": [],
   "source": [
    "#Data Analyst” in “Job title, Skills” field \n",
    "job_title = driver.find_element(By.XPATH,\"/html/body/div/div[4]/div/div[2]/div[2]/div/form/div/div[1]/ul/li[1]/div/input\")\n",
    "job_title.send_keys(\"Data Analyst\")"
   ]
  },
  {
   "cell_type": "code",
   "execution_count": 39,
   "id": "5025eeb1",
   "metadata": {},
   "outputs": [],
   "source": [
    "#“Bangalore” in “enter the location” field.\n",
    "job_loc = driver.find_element(By.XPATH,\"/html/body/div/div[4]/div/div[2]/div[2]/div/form/div/div[1]/ul/li[2]/div/input\")\n",
    "job_loc.send_keys(\"Bangalore\") "
   ]
  },
  {
   "cell_type": "code",
   "execution_count": 43,
   "id": "21dc3f61",
   "metadata": {},
   "outputs": [],
   "source": [
    "#click search button\n",
    "search_btn = driver.find_element(By.XPATH,\"/html/body/div/div[4]/div/div[2]/div[2]/div/form/div/div[2]/div/button\")\n",
    "search_btn.click()"
   ]
  },
  {
   "cell_type": "code",
   "execution_count": 44,
   "id": "c48ad9f2",
   "metadata": {},
   "outputs": [],
   "source": [
    "#scrape the job-title, job-location, company name, experience required\n",
    "job_title = []\n",
    "job_location = []\n",
    "company_name = []\n",
    "experience = []"
   ]
  },
  {
   "cell_type": "code",
   "execution_count": 47,
   "id": "1e3b671d",
   "metadata": {},
   "outputs": [],
   "source": [
    "#scrape the job-title\n",
    "job_titles = driver.find_elements(By.XPATH,'//div[@class=\"jobCard_jobCard__jjUmu  white-box-border jobCard\"]/div/h2/a')\n",
    "for i in job_titles:\n",
    "    title=i.text\n",
    "    job_title.append(title)\n"
   ]
  },
  {
   "cell_type": "code",
   "execution_count": 49,
   "id": "352e09c9",
   "metadata": {},
   "outputs": [],
   "source": [
    "#scrape the job_location\n",
    "job_locations = driver.find_elements(By.XPATH,'//div[@class=\" jobCard_jobCard_lists_item__YxRkV jobCard_locationIcon__zrWt2\"]')\n",
    "for i in job_locations:\n",
    "    location=i.text\n",
    "    job_location.append(location)"
   ]
  },
  {
   "cell_type": "code",
   "execution_count": 50,
   "id": "bc24fde2",
   "metadata": {},
   "outputs": [],
   "source": [
    "#scrape the company_name\n",
    "company_names = driver.find_elements(By.XPATH,'//div[@class=\"jobCard_jobCard_cName__mYnow\"]')\n",
    "for i in company_names:\n",
    "    company=i.text\n",
    "    company_name.append(company)"
   ]
  },
  {
   "cell_type": "code",
   "execution_count": 51,
   "id": "fa9c6f02",
   "metadata": {},
   "outputs": [],
   "source": [
    "#scrape the experience\n",
    "experiences = driver.find_elements(By.XPATH,'//div[@class=\" jobCard_jobCard_lists_item__YxRkV jobCard_jobIcon__3FB1t\"]')\n",
    "for i in experiences:\n",
    "    exp=i.text\n",
    "    experience.append(exp)"
   ]
  },
  {
   "cell_type": "code",
   "execution_count": 52,
   "id": "ffd5bc48",
   "metadata": {},
   "outputs": [
    {
     "name": "stdout",
     "output_type": "stream",
     "text": [
      "20 20 20 20\n"
     ]
    }
   ],
   "source": [
    "print(len(job_title),len(job_location),len(company_name),len(experience))"
   ]
  },
  {
   "cell_type": "code",
   "execution_count": 54,
   "id": "10f1bfb2",
   "metadata": {},
   "outputs": [
    {
     "data": {
      "text/html": [
       "<div>\n",
       "<style scoped>\n",
       "    .dataframe tbody tr th:only-of-type {\n",
       "        vertical-align: middle;\n",
       "    }\n",
       "\n",
       "    .dataframe tbody tr th {\n",
       "        vertical-align: top;\n",
       "    }\n",
       "\n",
       "    .dataframe thead th {\n",
       "        text-align: right;\n",
       "    }\n",
       "</style>\n",
       "<table border=\"1\" class=\"dataframe\">\n",
       "  <thead>\n",
       "    <tr style=\"text-align: right;\">\n",
       "      <th></th>\n",
       "      <th>Title</th>\n",
       "      <th>Location</th>\n",
       "      <th>Company Name</th>\n",
       "      <th>Experience</th>\n",
       "    </tr>\n",
       "  </thead>\n",
       "  <tbody>\n",
       "    <tr>\n",
       "      <th>0</th>\n",
       "      <td>Data Analyst</td>\n",
       "      <td>Bangalore\\n+9</td>\n",
       "      <td>sahast sales corporation</td>\n",
       "      <td>12 to 22 Yrs</td>\n",
       "    </tr>\n",
       "    <tr>\n",
       "      <th>1</th>\n",
       "      <td>Clinical Data Analyst</td>\n",
       "      <td>Bangalore\\n+6</td>\n",
       "      <td>techno endura</td>\n",
       "      <td>0 to 1 Yr</td>\n",
       "    </tr>\n",
       "    <tr>\n",
       "      <th>2</th>\n",
       "      <td>Data Analyst</td>\n",
       "      <td>Bangalore\\n+9</td>\n",
       "      <td>sahast sales corporation</td>\n",
       "      <td>12 to 22 Yrs</td>\n",
       "    </tr>\n",
       "    <tr>\n",
       "      <th>3</th>\n",
       "      <td>Hiring For Data Analyst</td>\n",
       "      <td>Bangalore\\n+12</td>\n",
       "      <td>radhika enterprises</td>\n",
       "      <td>0 to 4 Yrs</td>\n",
       "    </tr>\n",
       "    <tr>\n",
       "      <th>4</th>\n",
       "      <td>Clinical Data Analyst</td>\n",
       "      <td>Bangalore\\n+6</td>\n",
       "      <td>techno endura</td>\n",
       "      <td>0 to 1 Yr</td>\n",
       "    </tr>\n",
       "    <tr>\n",
       "      <th>5</th>\n",
       "      <td>Lead Data Analyst</td>\n",
       "      <td>Bangalore</td>\n",
       "      <td>ara resources private limited</td>\n",
       "      <td>4 to 9 Yrs</td>\n",
       "    </tr>\n",
       "    <tr>\n",
       "      <th>6</th>\n",
       "      <td>Data Executive karnataka</td>\n",
       "      <td>Bangalore\\n+9</td>\n",
       "      <td>v-tech data outsourcing</td>\n",
       "      <td>0 to 1 Yr</td>\n",
       "    </tr>\n",
       "    <tr>\n",
       "      <th>7</th>\n",
       "      <td>Data Analyst</td>\n",
       "      <td>Bangalore\\n+3</td>\n",
       "      <td>diraa hr services hiring for mncs</td>\n",
       "      <td>0 to 1 Yr</td>\n",
       "    </tr>\n",
       "    <tr>\n",
       "      <th>8</th>\n",
       "      <td>Sas Programmer Analyst</td>\n",
       "      <td>Bangalore\\n+8</td>\n",
       "      <td>techno endura</td>\n",
       "      <td>0 to 2 Yrs</td>\n",
       "    </tr>\n",
       "    <tr>\n",
       "      <th>9</th>\n",
       "      <td>Part-time remote opportunity document verifica...</td>\n",
       "      <td>Bangalore\\n+9</td>\n",
       "      <td>fondstaff private limited</td>\n",
       "      <td>0 to 4 Yrs</td>\n",
       "    </tr>\n",
       "  </tbody>\n",
       "</table>\n",
       "</div>"
      ],
      "text/plain": [
       "                                               Title        Location  \\\n",
       "0                                       Data Analyst   Bangalore\\n+9   \n",
       "1                              Clinical Data Analyst   Bangalore\\n+6   \n",
       "2                                       Data Analyst   Bangalore\\n+9   \n",
       "3                            Hiring For Data Analyst  Bangalore\\n+12   \n",
       "4                              Clinical Data Analyst   Bangalore\\n+6   \n",
       "5                                  Lead Data Analyst       Bangalore   \n",
       "6                           Data Executive karnataka   Bangalore\\n+9   \n",
       "7                                       Data Analyst   Bangalore\\n+3   \n",
       "8                             Sas Programmer Analyst   Bangalore\\n+8   \n",
       "9  Part-time remote opportunity document verifica...   Bangalore\\n+9   \n",
       "\n",
       "                        Company Name    Experience  \n",
       "0           sahast sales corporation  12 to 22 Yrs  \n",
       "1                      techno endura     0 to 1 Yr  \n",
       "2           sahast sales corporation  12 to 22 Yrs  \n",
       "3                radhika enterprises    0 to 4 Yrs  \n",
       "4                      techno endura     0 to 1 Yr  \n",
       "5      ara resources private limited    4 to 9 Yrs  \n",
       "6            v-tech data outsourcing     0 to 1 Yr  \n",
       "7  diraa hr services hiring for mncs     0 to 1 Yr  \n",
       "8                      techno endura    0 to 2 Yrs  \n",
       "9          fondstaff private limited    0 to 4 Yrs  "
      ]
     },
     "execution_count": 54,
     "metadata": {},
     "output_type": "execute_result"
    }
   ],
   "source": [
    "#scrape the data for the first 10 jobs results you get and create a dataframe of the scraped data.\n",
    "\n",
    "import pandas as pd\n",
    "df = pd.DataFrame({'Title':job_title,'Location':job_location,'Company Name':company_name, 'Experience':experience})\n",
    "df\n",
    "df_first_10 = df.head(10)\n",
    "df_first_10"
   ]
  },
  {
   "cell_type": "code",
   "execution_count": null,
   "id": "1bf986c3",
   "metadata": {},
   "outputs": [],
   "source": [
    "#Q3"
   ]
  },
  {
   "cell_type": "code",
   "execution_count": 56,
   "id": "4b80f000",
   "metadata": {},
   "outputs": [],
   "source": [
    "#first get the web page\n",
    "driver.get('https://www.flipkart.com/apple-iphone-11-black-64-gb/product-reviews/itm4e5041ba101fd?pid=MOBFWQ6BXGJCEYNY&lid=LSTMOBFWQ6BXGJCEYNYZXSHRJ&marketplace=FLIPKART');        "
   ]
  },
  {
   "cell_type": "code",
   "execution_count": 80,
   "id": "d42a619f",
   "metadata": {},
   "outputs": [],
   "source": [
    "#Rating\n",
    "rating = []\n",
    "ratings = driver.find_elements(By.XPATH,'//div[@class=\"_3LWZlK _1BLPMq\"]')\n",
    "for i in ratings[:100]:\n",
    "    ratin=i.text\n",
    "    rating.append(ratin)\n"
   ]
  },
  {
   "cell_type": "code",
   "execution_count": 81,
   "id": "e4c65ffb",
   "metadata": {},
   "outputs": [
    {
     "name": "stdout",
     "output_type": "stream",
     "text": [
      "10\n"
     ]
    }
   ],
   "source": [
    "print(len(rating))"
   ]
  },
  {
   "cell_type": "code",
   "execution_count": 82,
   "id": "3b8c27d9",
   "metadata": {},
   "outputs": [],
   "source": [
    "#Review Summary\n",
    "reviewSum = []\n",
    "reviewSummary = driver.find_elements(By.XPATH,'//p[@class=\"_2-N8zT\"]')\n",
    "for i in reviewSummary[:100]:\n",
    "    rvs=i.text\n",
    "    reviewSum.append(rvs)"
   ]
  },
  {
   "cell_type": "code",
   "execution_count": 83,
   "id": "dbcf6a0d",
   "metadata": {},
   "outputs": [
    {
     "name": "stdout",
     "output_type": "stream",
     "text": [
      "10\n"
     ]
    }
   ],
   "source": [
    "print(len(reviewSum))"
   ]
  },
  {
   "cell_type": "code",
   "execution_count": 84,
   "id": "0fbf3fdd",
   "metadata": {},
   "outputs": [],
   "source": [
    "#Review \n",
    "reviewFull = []\n",
    "review_Full = driver.find_elements(By.XPATH,'//div[@class=\"t-ZTKy\"]/div/div')\n",
    "for i in review_Full[:100]:\n",
    "    rvf=i.text\n",
    "    reviewFull.append(rvf)"
   ]
  },
  {
   "cell_type": "code",
   "execution_count": 85,
   "id": "9e5395c8",
   "metadata": {},
   "outputs": [
    {
     "name": "stdout",
     "output_type": "stream",
     "text": [
      "10\n"
     ]
    }
   ],
   "source": [
    "print(len(reviewFull))"
   ]
  },
  {
   "cell_type": "code",
   "execution_count": 86,
   "id": "69b0a0ba",
   "metadata": {},
   "outputs": [
    {
     "data": {
      "text/html": [
       "<div>\n",
       "<style scoped>\n",
       "    .dataframe tbody tr th:only-of-type {\n",
       "        vertical-align: middle;\n",
       "    }\n",
       "\n",
       "    .dataframe tbody tr th {\n",
       "        vertical-align: top;\n",
       "    }\n",
       "\n",
       "    .dataframe thead th {\n",
       "        text-align: right;\n",
       "    }\n",
       "</style>\n",
       "<table border=\"1\" class=\"dataframe\">\n",
       "  <thead>\n",
       "    <tr style=\"text-align: right;\">\n",
       "      <th></th>\n",
       "      <th>Rating</th>\n",
       "      <th>Review_Summary</th>\n",
       "      <th>Review</th>\n",
       "    </tr>\n",
       "  </thead>\n",
       "  <tbody>\n",
       "    <tr>\n",
       "      <th>0</th>\n",
       "      <td>5</td>\n",
       "      <td>Must buy!</td>\n",
       "      <td>It’s really awesome</td>\n",
       "    </tr>\n",
       "    <tr>\n",
       "      <th>1</th>\n",
       "      <td>5</td>\n",
       "      <td>Brilliant</td>\n",
       "      <td>Excellent Phone.</td>\n",
       "    </tr>\n",
       "    <tr>\n",
       "      <th>2</th>\n",
       "      <td>5</td>\n",
       "      <td>Awesome</td>\n",
       "      <td>iPhone 11 is a good phone. Not a very big diff...</td>\n",
       "    </tr>\n",
       "    <tr>\n",
       "      <th>3</th>\n",
       "      <td>5</td>\n",
       "      <td>Excellent</td>\n",
       "      <td>NYC</td>\n",
       "    </tr>\n",
       "    <tr>\n",
       "      <th>4</th>\n",
       "      <td>5</td>\n",
       "      <td>Perfect product!</td>\n",
       "      <td>V Good all</td>\n",
       "    </tr>\n",
       "    <tr>\n",
       "      <th>5</th>\n",
       "      <td>5</td>\n",
       "      <td>Super!</td>\n",
       "      <td>Good product 👌I love iPhone</td>\n",
       "    </tr>\n",
       "    <tr>\n",
       "      <th>6</th>\n",
       "      <td>5</td>\n",
       "      <td>Fabulous!</td>\n",
       "      <td>It’s very good battery life and display and vi...</td>\n",
       "    </tr>\n",
       "    <tr>\n",
       "      <th>7</th>\n",
       "      <td>5</td>\n",
       "      <td>Terrific purchase</td>\n",
       "      <td>Value for money 🖤🖤</td>\n",
       "    </tr>\n",
       "    <tr>\n",
       "      <th>8</th>\n",
       "      <td>5</td>\n",
       "      <td>Must buy!</td>\n",
       "      <td>Go for iPhone 11 , if confused between iPhone ...</td>\n",
       "    </tr>\n",
       "    <tr>\n",
       "      <th>9</th>\n",
       "      <td>5</td>\n",
       "      <td>Highly recommended</td>\n",
       "      <td>Awesome Battery Life...Camera clarity is too g...</td>\n",
       "    </tr>\n",
       "  </tbody>\n",
       "</table>\n",
       "</div>"
      ],
      "text/plain": [
       "  Rating      Review_Summary  \\\n",
       "0      5           Must buy!   \n",
       "1      5           Brilliant   \n",
       "2      5             Awesome   \n",
       "3      5           Excellent   \n",
       "4      5    Perfect product!   \n",
       "5      5              Super!   \n",
       "6      5           Fabulous!   \n",
       "7      5   Terrific purchase   \n",
       "8      5           Must buy!   \n",
       "9      5  Highly recommended   \n",
       "\n",
       "                                              Review  \n",
       "0                                It’s really awesome  \n",
       "1                                   Excellent Phone.  \n",
       "2  iPhone 11 is a good phone. Not a very big diff...  \n",
       "3                                                NYC  \n",
       "4                                         V Good all  \n",
       "5                        Good product 👌I love iPhone  \n",
       "6  It’s very good battery life and display and vi...  \n",
       "7                                 Value for money 🖤🖤  \n",
       "8  Go for iPhone 11 , if confused between iPhone ...  \n",
       "9  Awesome Battery Life...Camera clarity is too g...  "
      ]
     },
     "execution_count": 86,
     "metadata": {},
     "output_type": "execute_result"
    }
   ],
   "source": [
    "import pandas as pd\n",
    "df = pd.DataFrame({'Rating':rating,'Review_Summary':reviewSum,'Review':reviewFull})\n",
    "df\n",
    "df_first_100 = df.head(100)\n",
    "df_first_100"
   ]
  },
  {
   "cell_type": "code",
   "execution_count": null,
   "id": "17c7b9e1",
   "metadata": {},
   "outputs": [],
   "source": [
    "#Q4"
   ]
  },
  {
   "cell_type": "code",
   "execution_count": 98,
   "id": "3a0923bd",
   "metadata": {},
   "outputs": [],
   "source": [
    "driver.get('https://www.flipkart.com');"
   ]
  },
  {
   "cell_type": "code",
   "execution_count": 100,
   "id": "733e2c2f",
   "metadata": {},
   "outputs": [],
   "source": [
    "search_btn = driver.find_element(By.CLASS_NAME,\"Pke_EE\")\n",
    "search_btn.send_keys(\"sneakers\")"
   ]
  },
  {
   "cell_type": "code",
   "execution_count": 107,
   "id": "a47d5dcf",
   "metadata": {},
   "outputs": [],
   "source": [
    "search_icon = driver.find_element(By.XPATH,\"/html/body/div[1]/div/div[1]/div/div/div/div/div[1]/div/div[1]/div/div[1]/div[1]/header/div[1]/div[2]/form/div/button\")\n",
    "search_icon.click()"
   ]
  },
  {
   "cell_type": "code",
   "execution_count": null,
   "id": "7d63e80a",
   "metadata": {},
   "outputs": [],
   "source": [
    "#scraping data for 35 inorder to make the arrays equal size. Every arrays have common size of 35 so took 35."
   ]
  },
  {
   "cell_type": "code",
   "execution_count": 141,
   "id": "c04783a7",
   "metadata": {},
   "outputs": [],
   "source": [
    "#brand\n",
    "brand = []\n",
    "brands = driver.find_elements(By.XPATH,'//div[@class=\"_2WkVRV\"]')\n",
    "for i in brands[:35]:\n",
    "    br=i.text\n",
    "    brand.append(br)"
   ]
  },
  {
   "cell_type": "code",
   "execution_count": 142,
   "id": "6d1e8872",
   "metadata": {},
   "outputs": [
    {
     "name": "stdout",
     "output_type": "stream",
     "text": [
      "35\n"
     ]
    }
   ],
   "source": [
    "print(len(brand))"
   ]
  },
  {
   "cell_type": "code",
   "execution_count": null,
   "id": "a1db888c",
   "metadata": {},
   "outputs": [],
   "source": [
    "\n",
    "page_count = driver.find_element(By.XPATH,\"/html/body/div/div/div[3]/div[1]/div[2]/div[12]/div/div/nav/a[2]\")\n",
    "page_count.click()"
   ]
  },
  {
   "cell_type": "code",
   "execution_count": 129,
   "id": "3fb45269",
   "metadata": {},
   "outputs": [],
   "source": [
    "#product Description\n",
    "prod_desc = []\n",
    "prod_descr = driver.find_elements(By.XPATH,'//a[@class=\"IRpwTa\"]')\n",
    "for i in prod_descr:\n",
    "    pd=i.text\n",
    "    prod_desc.append(pd)"
   ]
  },
  {
   "cell_type": "code",
   "execution_count": 131,
   "id": "e738b6da",
   "metadata": {},
   "outputs": [
    {
     "name": "stdout",
     "output_type": "stream",
     "text": [
      "35\n"
     ]
    }
   ],
   "source": [
    "print(len(prod_desc))"
   ]
  },
  {
   "cell_type": "code",
   "execution_count": 139,
   "id": "04e31c5f",
   "metadata": {},
   "outputs": [],
   "source": [
    "#price\n",
    "price = []\n",
    "prices = driver.find_elements(By.XPATH,'//div[@class=\"_30jeq3\"]')\n",
    "for i in prices[:35]:\n",
    "    pr=i.text\n",
    "    price.append(pr)"
   ]
  },
  {
   "cell_type": "code",
   "execution_count": 140,
   "id": "1f2dd119",
   "metadata": {},
   "outputs": [
    {
     "name": "stdout",
     "output_type": "stream",
     "text": [
      "35\n"
     ]
    }
   ],
   "source": [
    "print(len(price))"
   ]
  },
  {
   "cell_type": "code",
   "execution_count": 143,
   "id": "72ce6f9b",
   "metadata": {
    "scrolled": true
   },
   "outputs": [
    {
     "data": {
      "text/html": [
       "<div>\n",
       "<style scoped>\n",
       "    .dataframe tbody tr th:only-of-type {\n",
       "        vertical-align: middle;\n",
       "    }\n",
       "\n",
       "    .dataframe tbody tr th {\n",
       "        vertical-align: top;\n",
       "    }\n",
       "\n",
       "    .dataframe thead th {\n",
       "        text-align: right;\n",
       "    }\n",
       "</style>\n",
       "<table border=\"1\" class=\"dataframe\">\n",
       "  <thead>\n",
       "    <tr style=\"text-align: right;\">\n",
       "      <th></th>\n",
       "      <th>brand</th>\n",
       "      <th>prod_desc</th>\n",
       "      <th>price</th>\n",
       "    </tr>\n",
       "  </thead>\n",
       "  <tbody>\n",
       "    <tr>\n",
       "      <th>0</th>\n",
       "      <td>BRUTON</td>\n",
       "      <td>Exclusive Sneaker Shoes Sneakers For Men</td>\n",
       "      <td>₹296</td>\n",
       "    </tr>\n",
       "    <tr>\n",
       "      <th>1</th>\n",
       "      <td>BRUTON</td>\n",
       "      <td>Modern Trendy Shoes Sneakers For Men</td>\n",
       "      <td>₹294</td>\n",
       "    </tr>\n",
       "    <tr>\n",
       "      <th>2</th>\n",
       "      <td>Deals4you</td>\n",
       "      <td>Sneakers For Women</td>\n",
       "      <td>₹439</td>\n",
       "    </tr>\n",
       "    <tr>\n",
       "      <th>3</th>\n",
       "      <td>URBANBOX</td>\n",
       "      <td>Trending Stylish Casual Outdoor Shoes Sneakers...</td>\n",
       "      <td>₹299</td>\n",
       "    </tr>\n",
       "    <tr>\n",
       "      <th>4</th>\n",
       "      <td>RED TAPE</td>\n",
       "      <td>Casual Sneakers Shoes for Men | Soft Cushioned...</td>\n",
       "      <td>₹1,179</td>\n",
       "    </tr>\n",
       "    <tr>\n",
       "      <th>5</th>\n",
       "      <td>PUMA</td>\n",
       "      <td>2 Combo Sneaker Shoes Sneakers For Men</td>\n",
       "      <td>₹1,047</td>\n",
       "    </tr>\n",
       "    <tr>\n",
       "      <th>6</th>\n",
       "      <td>BRUTON</td>\n",
       "      <td>Trendy &amp; Stylish Casual Shoes Sneakers For Men</td>\n",
       "      <td>₹499</td>\n",
       "    </tr>\n",
       "    <tr>\n",
       "      <th>7</th>\n",
       "      <td>kardam&amp;sons</td>\n",
       "      <td>Premium Casual Shoes for Women Sneakers For Women</td>\n",
       "      <td>₹429</td>\n",
       "    </tr>\n",
       "    <tr>\n",
       "      <th>8</th>\n",
       "      <td>A-CLASS</td>\n",
       "      <td>Combo Pack Of 2 Casual Shoes Sneakers For Men</td>\n",
       "      <td>₹499</td>\n",
       "    </tr>\n",
       "    <tr>\n",
       "      <th>9</th>\n",
       "      <td>BIRDE</td>\n",
       "      <td>Sneakers For Women</td>\n",
       "      <td>₹299</td>\n",
       "    </tr>\n",
       "    <tr>\n",
       "      <th>10</th>\n",
       "      <td>BRUTON</td>\n",
       "      <td>Sneaker Casual Shoes For Men | Soft Cushion In...</td>\n",
       "      <td>₹499</td>\n",
       "    </tr>\n",
       "    <tr>\n",
       "      <th>11</th>\n",
       "      <td>Deals4you</td>\n",
       "      <td>Casual Sneakers Shoes for Men | Soft Cushioned...</td>\n",
       "      <td>₹374</td>\n",
       "    </tr>\n",
       "    <tr>\n",
       "      <th>12</th>\n",
       "      <td>RED TAPE</td>\n",
       "      <td>mzzideko sports shoe Sneakers For Men</td>\n",
       "      <td>₹1,079</td>\n",
       "    </tr>\n",
       "    <tr>\n",
       "      <th>13</th>\n",
       "      <td>RED TAPE</td>\n",
       "      <td>Casual Sneakers ColourFul Block Shoes For Boys...</td>\n",
       "      <td>₹1,179</td>\n",
       "    </tr>\n",
       "    <tr>\n",
       "      <th>14</th>\n",
       "      <td>Mzzideko</td>\n",
       "      <td>Combo Pack Of 2 Casual Shoes Sneakers For Men</td>\n",
       "      <td>₹489</td>\n",
       "    </tr>\n",
       "    <tr>\n",
       "      <th>15</th>\n",
       "      <td>Labbin</td>\n",
       "      <td>Combo Pack Of 2 Casual Shoes Sneakers For Men</td>\n",
       "      <td>₹539</td>\n",
       "    </tr>\n",
       "    <tr>\n",
       "      <th>16</th>\n",
       "      <td>BRUTON</td>\n",
       "      <td>Synthetic Leather |Lightweight|Comfort|Summer|...</td>\n",
       "      <td>₹499</td>\n",
       "    </tr>\n",
       "    <tr>\n",
       "      <th>17</th>\n",
       "      <td>BRUTON</td>\n",
       "      <td>Sneakers For Men</td>\n",
       "      <td>₹499</td>\n",
       "    </tr>\n",
       "    <tr>\n",
       "      <th>18</th>\n",
       "      <td>aadi</td>\n",
       "      <td>Modern Trendy Sneakers Shoes Sneakers For Men</td>\n",
       "      <td>₹299</td>\n",
       "    </tr>\n",
       "    <tr>\n",
       "      <th>19</th>\n",
       "      <td>TRM</td>\n",
       "      <td>Casual Sneakers White Shoes For Girls And Snea...</td>\n",
       "      <td>₹699</td>\n",
       "    </tr>\n",
       "    <tr>\n",
       "      <th>20</th>\n",
       "      <td>BRUTON</td>\n",
       "      <td>Combo Pack of 2 Casual Shoes Sneakers For Men</td>\n",
       "      <td>₹494</td>\n",
       "    </tr>\n",
       "    <tr>\n",
       "      <th>21</th>\n",
       "      <td>Layasa</td>\n",
       "      <td>Premium Men Casual Shoes For Men Pack Of 2 Sne...</td>\n",
       "      <td>₹449</td>\n",
       "    </tr>\n",
       "    <tr>\n",
       "      <th>22</th>\n",
       "      <td>BIRDE</td>\n",
       "      <td>Sneakers For Men</td>\n",
       "      <td>₹544</td>\n",
       "    </tr>\n",
       "    <tr>\n",
       "      <th>23</th>\n",
       "      <td>BIRDE</td>\n",
       "      <td>Boston-01 Chunky Sneakers,Loafers,Walking Shoe...</td>\n",
       "      <td>₹549</td>\n",
       "    </tr>\n",
       "    <tr>\n",
       "      <th>24</th>\n",
       "      <td>HIGHLANDER</td>\n",
       "      <td>Combo Pack Of 4 Casual Shoes Loafer Shoes Snea...</td>\n",
       "      <td>₹529</td>\n",
       "    </tr>\n",
       "    <tr>\n",
       "      <th>25</th>\n",
       "      <td>asian</td>\n",
       "      <td>Sneakers For Women</td>\n",
       "      <td>₹769</td>\n",
       "    </tr>\n",
       "    <tr>\n",
       "      <th>26</th>\n",
       "      <td>BRUTON</td>\n",
       "      <td>Trendy &amp; Stylish Casual Shoes Sneakers For Men</td>\n",
       "      <td>₹599</td>\n",
       "    </tr>\n",
       "    <tr>\n",
       "      <th>27</th>\n",
       "      <td>Layasa</td>\n",
       "      <td>GROOVY Mid-Top Casual Chunky Streetwear Fashio...</td>\n",
       "      <td>₹449</td>\n",
       "    </tr>\n",
       "    <tr>\n",
       "      <th>28</th>\n",
       "      <td>BERSACHE</td>\n",
       "      <td>Sneakers For Women</td>\n",
       "      <td>₹499</td>\n",
       "    </tr>\n",
       "    <tr>\n",
       "      <th>29</th>\n",
       "      <td>A-CLASS</td>\n",
       "      <td>Premium Casual Shoes for Women Sneakers For Women</td>\n",
       "      <td>₹522</td>\n",
       "    </tr>\n",
       "    <tr>\n",
       "      <th>30</th>\n",
       "      <td>Kraasa</td>\n",
       "      <td>Trendy &amp; Stylish Casual Shoes Slip On Sneakers...</td>\n",
       "      <td>₹449</td>\n",
       "    </tr>\n",
       "    <tr>\n",
       "      <th>31</th>\n",
       "      <td>Layasa</td>\n",
       "      <td>Sneakers For Women</td>\n",
       "      <td>₹291</td>\n",
       "    </tr>\n",
       "    <tr>\n",
       "      <th>32</th>\n",
       "      <td>Ego by NS</td>\n",
       "      <td>Sneakers For Mens/Sandals for mens Slip On Loa...</td>\n",
       "      <td>₹1,381</td>\n",
       "    </tr>\n",
       "    <tr>\n",
       "      <th>33</th>\n",
       "      <td>PUMA</td>\n",
       "      <td>Carnival-02 Mens High Top Casual Chunky Sneake...</td>\n",
       "      <td>₹299</td>\n",
       "    </tr>\n",
       "    <tr>\n",
       "      <th>34</th>\n",
       "      <td>BIRDE</td>\n",
       "      <td>Seattle Sneakers For Men</td>\n",
       "      <td>₹499</td>\n",
       "    </tr>\n",
       "  </tbody>\n",
       "</table>\n",
       "</div>"
      ],
      "text/plain": [
       "          brand                                          prod_desc   price\n",
       "0        BRUTON           Exclusive Sneaker Shoes Sneakers For Men    ₹296\n",
       "1        BRUTON               Modern Trendy Shoes Sneakers For Men    ₹294\n",
       "2     Deals4you                                 Sneakers For Women    ₹439\n",
       "3      URBANBOX  Trending Stylish Casual Outdoor Shoes Sneakers...    ₹299\n",
       "4      RED TAPE  Casual Sneakers Shoes for Men | Soft Cushioned...  ₹1,179\n",
       "5          PUMA             2 Combo Sneaker Shoes Sneakers For Men  ₹1,047\n",
       "6        BRUTON     Trendy & Stylish Casual Shoes Sneakers For Men    ₹499\n",
       "7   kardam&sons  Premium Casual Shoes for Women Sneakers For Women    ₹429\n",
       "8       A-CLASS      Combo Pack Of 2 Casual Shoes Sneakers For Men    ₹499\n",
       "9         BIRDE                                 Sneakers For Women    ₹299\n",
       "10       BRUTON  Sneaker Casual Shoes For Men | Soft Cushion In...    ₹499\n",
       "11    Deals4you  Casual Sneakers Shoes for Men | Soft Cushioned...    ₹374\n",
       "12     RED TAPE              mzzideko sports shoe Sneakers For Men  ₹1,079\n",
       "13     RED TAPE  Casual Sneakers ColourFul Block Shoes For Boys...  ₹1,179\n",
       "14     Mzzideko      Combo Pack Of 2 Casual Shoes Sneakers For Men    ₹489\n",
       "15       Labbin      Combo Pack Of 2 Casual Shoes Sneakers For Men    ₹539\n",
       "16       BRUTON  Synthetic Leather |Lightweight|Comfort|Summer|...    ₹499\n",
       "17       BRUTON                                   Sneakers For Men    ₹499\n",
       "18         aadi      Modern Trendy Sneakers Shoes Sneakers For Men    ₹299\n",
       "19          TRM  Casual Sneakers White Shoes For Girls And Snea...    ₹699\n",
       "20       BRUTON      Combo Pack of 2 Casual Shoes Sneakers For Men    ₹494\n",
       "21       Layasa  Premium Men Casual Shoes For Men Pack Of 2 Sne...    ₹449\n",
       "22        BIRDE                                   Sneakers For Men    ₹544\n",
       "23        BIRDE  Boston-01 Chunky Sneakers,Loafers,Walking Shoe...    ₹549\n",
       "24   HIGHLANDER  Combo Pack Of 4 Casual Shoes Loafer Shoes Snea...    ₹529\n",
       "25        asian                                 Sneakers For Women    ₹769\n",
       "26       BRUTON     Trendy & Stylish Casual Shoes Sneakers For Men    ₹599\n",
       "27       Layasa  GROOVY Mid-Top Casual Chunky Streetwear Fashio...    ₹449\n",
       "28     BERSACHE                                 Sneakers For Women    ₹499\n",
       "29      A-CLASS  Premium Casual Shoes for Women Sneakers For Women    ₹522\n",
       "30       Kraasa  Trendy & Stylish Casual Shoes Slip On Sneakers...    ₹449\n",
       "31       Layasa                                 Sneakers For Women    ₹291\n",
       "32    Ego by NS  Sneakers For Mens/Sandals for mens Slip On Loa...  ₹1,381\n",
       "33         PUMA  Carnival-02 Mens High Top Casual Chunky Sneake...    ₹299\n",
       "34        BIRDE                           Seattle Sneakers For Men    ₹499"
      ]
     },
     "execution_count": 143,
     "metadata": {},
     "output_type": "execute_result"
    }
   ],
   "source": [
    "import pandas as pd\n",
    "df = pd.DataFrame({'brand':brand,'prod_desc':prod_desc,'price':price})\n",
    "df\n",
    "df_first_35 = df.head(35)\n",
    "df_first_35"
   ]
  },
  {
   "cell_type": "code",
   "execution_count": null,
   "id": "2c64a065",
   "metadata": {},
   "outputs": [],
   "source": [
    "#Q5"
   ]
  },
  {
   "cell_type": "code",
   "execution_count": 144,
   "id": "6a7b5f04",
   "metadata": {},
   "outputs": [],
   "source": [
    "#Go to webpage\n",
    "driver.get('https://www.amazon.in');"
   ]
  },
  {
   "cell_type": "code",
   "execution_count": 147,
   "id": "77a355fb",
   "metadata": {},
   "outputs": [],
   "source": [
    "#SEARCH\n",
    "search_btn = driver.find_element(By.XPATH,\"/html/body/div[1]/header/div/div[1]/div[2]/div/form/div[2]/div[1]/input\")\n",
    "search_btn.send_keys(\"Laptop\")\n",
    "#search click\n",
    "search_icon = driver.find_element(By.XPATH,\"/html/body/div[1]/header/div/div[1]/div[2]/div/form/div[3]/div/span/input\")\n",
    "search_icon.click()"
   ]
  },
  {
   "cell_type": "code",
   "execution_count": 148,
   "id": "73884703",
   "metadata": {},
   "outputs": [],
   "source": [
    "#Filter CPU Type to “Intel Core i7”\n",
    "cpuType = driver.find_element(By.XPATH,\"/html/body/div[1]/div[1]/div[1]/div[2]/div/div[3]/span/div[1]/div/div/div[6]/ul[19]/span/span[9]/li/span/a/div/label/i\")\n",
    "cpuType.click()"
   ]
  },
  {
   "cell_type": "code",
   "execution_count": 149,
   "id": "9889c7aa",
   "metadata": {},
   "outputs": [],
   "source": [
    "#title\n",
    "title = []\n",
    "titles = driver.find_elements(By.XPATH,'//h2[@class=\"a-size-mini a-spacing-none a-color-base s-line-clamp-2\"]')\n",
    "for i in titles[:10]:\n",
    "    t=i.text\n",
    "    title.append(t)"
   ]
  },
  {
   "cell_type": "code",
   "execution_count": 154,
   "id": "cd329966",
   "metadata": {},
   "outputs": [],
   "source": [
    "#Ratings\n",
    "rating = []\n",
    "ratings = driver.find_elements(By.XPATH,'//span[@class=\"a-size-base s-underline-text\"]')\n",
    "for i in ratings[:10]:\n",
    "    r=i.text\n",
    "    rating.append(r)"
   ]
  },
  {
   "cell_type": "code",
   "execution_count": 155,
   "id": "ced5b1de",
   "metadata": {},
   "outputs": [
    {
     "name": "stdout",
     "output_type": "stream",
     "text": [
      "10\n"
     ]
    }
   ],
   "source": [
    "print(len(rating))"
   ]
  },
  {
   "cell_type": "code",
   "execution_count": 151,
   "id": "560bd26e",
   "metadata": {},
   "outputs": [],
   "source": [
    "#price\n",
    "price = []\n",
    "prices = driver.find_elements(By.XPATH,'//span[@class=\"a-price-whole\"]')\n",
    "for i in prices[:10]:\n",
    "    pr=i.text\n",
    "    price.append(pr)\n"
   ]
  },
  {
   "cell_type": "code",
   "execution_count": 156,
   "id": "245e5065",
   "metadata": {},
   "outputs": [
    {
     "data": {
      "text/html": [
       "<div>\n",
       "<style scoped>\n",
       "    .dataframe tbody tr th:only-of-type {\n",
       "        vertical-align: middle;\n",
       "    }\n",
       "\n",
       "    .dataframe tbody tr th {\n",
       "        vertical-align: top;\n",
       "    }\n",
       "\n",
       "    .dataframe thead th {\n",
       "        text-align: right;\n",
       "    }\n",
       "</style>\n",
       "<table border=\"1\" class=\"dataframe\">\n",
       "  <thead>\n",
       "    <tr style=\"text-align: right;\">\n",
       "      <th></th>\n",
       "      <th>Title</th>\n",
       "      <th>Ratings</th>\n",
       "      <th>price</th>\n",
       "    </tr>\n",
       "  </thead>\n",
       "  <tbody>\n",
       "    <tr>\n",
       "      <th>0</th>\n",
       "      <td>Lenovo IdeaPad Slim 3 Intel Core i7 12th Gen 1...</td>\n",
       "      <td>459</td>\n",
       "      <td>59,990</td>\n",
       "    </tr>\n",
       "    <tr>\n",
       "      <th>1</th>\n",
       "      <td>MSI Modern 14, Intel 12th Gen. i7-1255U, 36CM ...</td>\n",
       "      <td>88</td>\n",
       "      <td>49,990</td>\n",
       "    </tr>\n",
       "    <tr>\n",
       "      <th>2</th>\n",
       "      <td>HP Pavilion X360 11th Gen Intel Core i7 14\" (3...</td>\n",
       "      <td>146</td>\n",
       "      <td>62,490</td>\n",
       "    </tr>\n",
       "    <tr>\n",
       "      <th>3</th>\n",
       "      <td>MSI Modern 14, Intel 12th Gen. i7-1255U, 36CM ...</td>\n",
       "      <td>88</td>\n",
       "      <td>49,990</td>\n",
       "    </tr>\n",
       "    <tr>\n",
       "      <th>4</th>\n",
       "      <td>Lenovo IdeaPad Slim 3 Intel Core i7 12th Gen 1...</td>\n",
       "      <td>459</td>\n",
       "      <td>66,990</td>\n",
       "    </tr>\n",
       "    <tr>\n",
       "      <th>5</th>\n",
       "      <td>Acer Travelmate Business Laptop Intel Core i7-...</td>\n",
       "      <td>4</td>\n",
       "      <td>49,990</td>\n",
       "    </tr>\n",
       "    <tr>\n",
       "      <th>6</th>\n",
       "      <td>ASUS TUF Gaming F15, 15.6\"(39.62 cms) FHD 144H...</td>\n",
       "      <td>2</td>\n",
       "      <td>62,490</td>\n",
       "    </tr>\n",
       "    <tr>\n",
       "      <th>7</th>\n",
       "      <td>HP Laptop 15s, 12th Gen Intel Core i7-1255U, 1...</td>\n",
       "      <td>229</td>\n",
       "      <td>1,19,990</td>\n",
       "    </tr>\n",
       "    <tr>\n",
       "      <th>8</th>\n",
       "      <td>ASUS Vivobook 15, Intel Core i7-12650H 12th Ge...</td>\n",
       "      <td>49</td>\n",
       "      <td>49,990</td>\n",
       "    </tr>\n",
       "    <tr>\n",
       "      <th>9</th>\n",
       "      <td>HP Pavilion 14 12th Gen Intel Core i7 16GB SDR...</td>\n",
       "      <td>450</td>\n",
       "      <td>74,990</td>\n",
       "    </tr>\n",
       "  </tbody>\n",
       "</table>\n",
       "</div>"
      ],
      "text/plain": [
       "                                               Title Ratings     price\n",
       "0  Lenovo IdeaPad Slim 3 Intel Core i7 12th Gen 1...     459    59,990\n",
       "1  MSI Modern 14, Intel 12th Gen. i7-1255U, 36CM ...      88    49,990\n",
       "2  HP Pavilion X360 11th Gen Intel Core i7 14\" (3...     146    62,490\n",
       "3  MSI Modern 14, Intel 12th Gen. i7-1255U, 36CM ...      88    49,990\n",
       "4  Lenovo IdeaPad Slim 3 Intel Core i7 12th Gen 1...     459    66,990\n",
       "5  Acer Travelmate Business Laptop Intel Core i7-...       4    49,990\n",
       "6  ASUS TUF Gaming F15, 15.6\"(39.62 cms) FHD 144H...       2    62,490\n",
       "7  HP Laptop 15s, 12th Gen Intel Core i7-1255U, 1...     229  1,19,990\n",
       "8  ASUS Vivobook 15, Intel Core i7-12650H 12th Ge...      49    49,990\n",
       "9  HP Pavilion 14 12th Gen Intel Core i7 16GB SDR...     450    74,990"
      ]
     },
     "execution_count": 156,
     "metadata": {},
     "output_type": "execute_result"
    }
   ],
   "source": [
    "#scrape data for 10 laptops\n",
    "import pandas as pd\n",
    "df = pd.DataFrame({'Title':title,'Ratings':rating,'price':price})\n",
    "df\n",
    "df_first_10 = df.head(10)\n",
    "df_first_10"
   ]
  },
  {
   "cell_type": "code",
   "execution_count": null,
   "id": "483c6fff",
   "metadata": {},
   "outputs": [],
   "source": [
    "#Q7"
   ]
  },
  {
   "cell_type": "code",
   "execution_count": 157,
   "id": "70ac2da6",
   "metadata": {},
   "outputs": [],
   "source": [
    "#Go to webpage\n",
    "driver.get('https://www.azquotes.com/');"
   ]
  },
  {
   "cell_type": "code",
   "execution_count": 158,
   "id": "6aa22680",
   "metadata": {},
   "outputs": [],
   "source": [
    "#click on Top Quote\n",
    "top_quote = driver.find_element(By.XPATH,\"/html/body/div[1]/div[1]/div[1]/div/div[3]/ul/li[5]/a\")\n",
    "top_quote.click()"
   ]
  },
  {
   "cell_type": "code",
   "execution_count": 160,
   "id": "bbfef4c7",
   "metadata": {},
   "outputs": [],
   "source": [
    "#scrap quote, author, type of quote\n",
    "#quote\n",
    "quote = []\n",
    "quotes = driver.find_elements(By.XPATH,'//a[@class=\"title\"]')\n",
    "for i in quotes:\n",
    "    q=i.text\n",
    "    quote.append(q)\n",
    "#author\n",
    "author = []\n",
    "authors = driver.find_elements(By.XPATH,'//div[@class=\"author\"]')\n",
    "for i in authors:\n",
    "    a=i.text\n",
    "    author.append(a)\n",
    "#quote_type\n",
    "quote_type = []\n",
    "quote_types = driver.find_elements(By.XPATH,'//div[@class=\"tags\"]')\n",
    "for i in quote_types:\n",
    "    qt=i.text\n",
    "    quote_type.append(qt)"
   ]
  },
  {
   "cell_type": "code",
   "execution_count": 162,
   "id": "67d61439",
   "metadata": {},
   "outputs": [
    {
     "data": {
      "text/html": [
       "<div>\n",
       "<style scoped>\n",
       "    .dataframe tbody tr th:only-of-type {\n",
       "        vertical-align: middle;\n",
       "    }\n",
       "\n",
       "    .dataframe tbody tr th {\n",
       "        vertical-align: top;\n",
       "    }\n",
       "\n",
       "    .dataframe thead th {\n",
       "        text-align: right;\n",
       "    }\n",
       "</style>\n",
       "<table border=\"1\" class=\"dataframe\">\n",
       "  <thead>\n",
       "    <tr style=\"text-align: right;\">\n",
       "      <th></th>\n",
       "      <th>Quote</th>\n",
       "      <th>Author</th>\n",
       "      <th>QuoteType</th>\n",
       "    </tr>\n",
       "  </thead>\n",
       "  <tbody>\n",
       "    <tr>\n",
       "      <th>0</th>\n",
       "      <td>The essence of strategy is choosing what not t...</td>\n",
       "      <td>Michael Porter</td>\n",
       "      <td>Essence, Deep Thought, Transcendentalism</td>\n",
       "    </tr>\n",
       "    <tr>\n",
       "      <th>1</th>\n",
       "      <td>One cannot and must not try to erase the past ...</td>\n",
       "      <td>Golda Meir</td>\n",
       "      <td>Inspiration, Past, Trying</td>\n",
       "    </tr>\n",
       "    <tr>\n",
       "      <th>2</th>\n",
       "      <td>Patriotism means to stand by the country. It d...</td>\n",
       "      <td>Theodore Roosevelt</td>\n",
       "      <td>Country, Peace, War</td>\n",
       "    </tr>\n",
       "    <tr>\n",
       "      <th>3</th>\n",
       "      <td>Death is something inevitable. When a man has ...</td>\n",
       "      <td>Nelson Mandela</td>\n",
       "      <td>Inspirational, Motivational, Death</td>\n",
       "    </tr>\n",
       "    <tr>\n",
       "      <th>4</th>\n",
       "      <td>You have to love a nation that celebrates its ...</td>\n",
       "      <td>Erma Bombeck</td>\n",
       "      <td>4th Of July, Food, Patriotic</td>\n",
       "    </tr>\n",
       "    <tr>\n",
       "      <th>...</th>\n",
       "      <td>...</td>\n",
       "      <td>...</td>\n",
       "      <td>...</td>\n",
       "    </tr>\n",
       "    <tr>\n",
       "      <th>95</th>\n",
       "      <td>When the going gets weird, the weird turn pro.</td>\n",
       "      <td>Hunter S. Thompson</td>\n",
       "      <td>Music, Sports, Hunting</td>\n",
       "    </tr>\n",
       "    <tr>\n",
       "      <th>96</th>\n",
       "      <td>When a train goes through a tunnel and it gets...</td>\n",
       "      <td>Corrie Ten Boom</td>\n",
       "      <td>Trust, Encouraging, Uplifting</td>\n",
       "    </tr>\n",
       "    <tr>\n",
       "      <th>97</th>\n",
       "      <td>If you think you are too small to make a diffe...</td>\n",
       "      <td>Dalai Lama</td>\n",
       "      <td>Inspirational, Funny, Change</td>\n",
       "    </tr>\n",
       "    <tr>\n",
       "      <th>98</th>\n",
       "      <td>God doesn't require us to succeed, he only req...</td>\n",
       "      <td>Mother Teresa</td>\n",
       "      <td>Success, God, Mother</td>\n",
       "    </tr>\n",
       "    <tr>\n",
       "      <th>99</th>\n",
       "      <td>Change your thoughts and you change your world.</td>\n",
       "      <td>Norman Vincent Peale</td>\n",
       "      <td>Inspirational, Motivational, Change</td>\n",
       "    </tr>\n",
       "  </tbody>\n",
       "</table>\n",
       "<p>100 rows × 3 columns</p>\n",
       "</div>"
      ],
      "text/plain": [
       "                                                Quote                Author  \\\n",
       "0   The essence of strategy is choosing what not t...        Michael Porter   \n",
       "1   One cannot and must not try to erase the past ...            Golda Meir   \n",
       "2   Patriotism means to stand by the country. It d...    Theodore Roosevelt   \n",
       "3   Death is something inevitable. When a man has ...        Nelson Mandela   \n",
       "4   You have to love a nation that celebrates its ...          Erma Bombeck   \n",
       "..                                                ...                   ...   \n",
       "95     When the going gets weird, the weird turn pro.    Hunter S. Thompson   \n",
       "96  When a train goes through a tunnel and it gets...       Corrie Ten Boom   \n",
       "97  If you think you are too small to make a diffe...            Dalai Lama   \n",
       "98  God doesn't require us to succeed, he only req...         Mother Teresa   \n",
       "99    Change your thoughts and you change your world.  Norman Vincent Peale   \n",
       "\n",
       "                                   QuoteType  \n",
       "0   Essence, Deep Thought, Transcendentalism  \n",
       "1                  Inspiration, Past, Trying  \n",
       "2                        Country, Peace, War  \n",
       "3         Inspirational, Motivational, Death  \n",
       "4               4th Of July, Food, Patriotic  \n",
       "..                                       ...  \n",
       "95                    Music, Sports, Hunting  \n",
       "96             Trust, Encouraging, Uplifting  \n",
       "97              Inspirational, Funny, Change  \n",
       "98                      Success, God, Mother  \n",
       "99       Inspirational, Motivational, Change  \n",
       "\n",
       "[100 rows x 3 columns]"
      ]
     },
     "execution_count": 162,
     "metadata": {},
     "output_type": "execute_result"
    }
   ],
   "source": [
    "#scrape data for top 100 quotes\n",
    "import pandas as pd\n",
    "df = pd.DataFrame({'Quote':quote,'Author':author,'QuoteType':quote_type})\n",
    "df\n",
    "df_first_100 = df.head(100)\n",
    "df_first_100"
   ]
  },
  {
   "cell_type": "code",
   "execution_count": null,
   "id": "df88952c",
   "metadata": {},
   "outputs": [],
   "source": [
    "#Q7\n"
   ]
  },
  {
   "cell_type": "code",
   "execution_count": 163,
   "id": "c46fcbb6",
   "metadata": {},
   "outputs": [],
   "source": [
    "#Go to webpage\n",
    "driver.get('https://www.jagranjosh.com/general-knowledge/list-of-all-prime-ministers-of-india-1473165149-1');"
   ]
  },
  {
   "cell_type": "code",
   "execution_count": 165,
   "id": "957c5de8",
   "metadata": {},
   "outputs": [],
   "source": [
    "#scrap Name, Born-Dead, Term of office, Remarks\n",
    "#Name\n",
    "name = []\n",
    "names = driver.find_elements(By.XPATH,'//div[@class=\"TableData\"]/table/tbody/tr/td[2]/div')\n",
    "for i in names:\n",
    "    n=i.text\n",
    "    name.append(n)\n",
    "#Born-Dead\n",
    "born_dead = []\n",
    "born_deads = driver.find_elements(By.XPATH,'//div[@class=\"TableData\"]/table/tbody/tr/td[3]/div')\n",
    "for i in born_deads:\n",
    "    bd=i.text\n",
    "    born_dead.append(bd)\n",
    "#Term of office\n",
    "term_of_office = []\n",
    "terms_of_office = driver.find_elements(By.XPATH,'//div[@class=\"TableData\"]/table/tbody/tr/td[4]/div[1]')\n",
    "for i in terms_of_office:\n",
    "    tof=i.text\n",
    "    term_of_office.append(tof)\n",
    "#Remarks\n",
    "remarks = []\n",
    "remark = driver.find_elements(By.XPATH,'//div[@class=\"TableData\"]/table/tbody/tr/td[5]/div')\n",
    "for i in remark:\n",
    "    rm=i.text\n",
    "    remarks.append(rm)"
   ]
  },
  {
   "cell_type": "code",
   "execution_count": 168,
   "id": "7b9f78e1",
   "metadata": {},
   "outputs": [
    {
     "data": {
      "text/html": [
       "<div>\n",
       "<style scoped>\n",
       "    .dataframe tbody tr th:only-of-type {\n",
       "        vertical-align: middle;\n",
       "    }\n",
       "\n",
       "    .dataframe tbody tr th {\n",
       "        vertical-align: top;\n",
       "    }\n",
       "\n",
       "    .dataframe thead th {\n",
       "        text-align: right;\n",
       "    }\n",
       "</style>\n",
       "<table border=\"1\" class=\"dataframe\">\n",
       "  <thead>\n",
       "    <tr style=\"text-align: right;\">\n",
       "      <th></th>\n",
       "      <th>Name</th>\n",
       "      <th>Born-Dead</th>\n",
       "      <th>Term of office</th>\n",
       "      <th>Remarks</th>\n",
       "    </tr>\n",
       "  </thead>\n",
       "  <tbody>\n",
       "    <tr>\n",
       "      <th>0</th>\n",
       "      <td>Jawahar Lal Nehru</td>\n",
       "      <td>(1889–1964)</td>\n",
       "      <td>15 August 1947 to 27 May 1964</td>\n",
       "      <td>The first prime minister of India and the long...</td>\n",
       "    </tr>\n",
       "    <tr>\n",
       "      <th>1</th>\n",
       "      <td>Gulzarilal Nanda (Acting)</td>\n",
       "      <td>(1898-1998)</td>\n",
       "      <td>27 May 1964 to 9 June 1964,</td>\n",
       "      <td>First acting PM of India</td>\n",
       "    </tr>\n",
       "    <tr>\n",
       "      <th>2</th>\n",
       "      <td>Lal Bahadur Shastri</td>\n",
       "      <td>(1904–1966)</td>\n",
       "      <td>9 June 1964 to 11 January 1966</td>\n",
       "      <td>He has given the slogan of 'Jai Jawan Jai Kisa...</td>\n",
       "    </tr>\n",
       "    <tr>\n",
       "      <th>3</th>\n",
       "      <td>Gulzari Lal Nanda  (Acting)</td>\n",
       "      <td>(1898-1998)</td>\n",
       "      <td>11 January 1966 to 24 January 1966</td>\n",
       "      <td>-</td>\n",
       "    </tr>\n",
       "    <tr>\n",
       "      <th>4</th>\n",
       "      <td>Indira Gandhi</td>\n",
       "      <td>(1917–1984)</td>\n",
       "      <td>24 January 1966 to 24 March 1977</td>\n",
       "      <td>First female Prime Minister of India</td>\n",
       "    </tr>\n",
       "  </tbody>\n",
       "</table>\n",
       "</div>"
      ],
      "text/plain": [
       "                          Name    Born-Dead  \\\n",
       "0            Jawahar Lal Nehru  (1889–1964)   \n",
       "1    Gulzarilal Nanda (Acting)  (1898-1998)   \n",
       "2          Lal Bahadur Shastri  (1904–1966)   \n",
       "3  Gulzari Lal Nanda  (Acting)  (1898-1998)   \n",
       "4                Indira Gandhi  (1917–1984)   \n",
       "\n",
       "                       Term of office  \\\n",
       "0       15 August 1947 to 27 May 1964   \n",
       "1         27 May 1964 to 9 June 1964,   \n",
       "2      9 June 1964 to 11 January 1966   \n",
       "3  11 January 1966 to 24 January 1966   \n",
       "4    24 January 1966 to 24 March 1977   \n",
       "\n",
       "                                             Remarks  \n",
       "0  The first prime minister of India and the long...  \n",
       "1                           First acting PM of India  \n",
       "2  He has given the slogan of 'Jai Jawan Jai Kisa...  \n",
       "3                                                  -  \n",
       "4               First female Prime Minister of India  "
      ]
     },
     "execution_count": 168,
     "metadata": {},
     "output_type": "execute_result"
    }
   ],
   "source": [
    "#scrape data to display list of respected former Prime Ministers of India \n",
    "import pandas as pd\n",
    "df = pd.DataFrame({'Name':name,'Born-Dead':born_dead,'Term of office':term_of_office,'Remarks':remarks})\n",
    "df\n",
    "df_first_20 = df.head()\n",
    "df_first_20"
   ]
  },
  {
   "cell_type": "code",
   "execution_count": null,
   "id": "5bc5f926",
   "metadata": {},
   "outputs": [],
   "source": [
    "#Q8"
   ]
  },
  {
   "cell_type": "code",
   "execution_count": 169,
   "id": "473f794c",
   "metadata": {},
   "outputs": [],
   "source": [
    "#Go to webpage\n",
    "driver.get('https://www.motor1.com/');"
   ]
  },
  {
   "cell_type": "code",
   "execution_count": 171,
   "id": "292044fa",
   "metadata": {},
   "outputs": [],
   "source": [
    "#SEARCH\n",
    "search_btn = driver.find_element(By.XPATH,\"/html/body/div[9]/div[2]/div/div/div[3]/div/div/div/form/input\")\n",
    "search_btn.send_keys(\"50 most expensive cars\")\n",
    "#there is no search results for these"
   ]
  },
  {
   "cell_type": "code",
   "execution_count": 172,
   "id": "ca8dbe69",
   "metadata": {},
   "outputs": [],
   "source": [
    "#search click\n",
    "search_icon = driver.find_element(By.XPATH,\"/html/body/div[9]/div[2]/div/div/div[3]/div/div/div/form/button[1]\")\n",
    "search_icon.click()"
   ]
  },
  {
   "cell_type": "code",
   "execution_count": null,
   "id": "44039230",
   "metadata": {},
   "outputs": [],
   "source": []
  }
 ],
 "metadata": {
  "kernelspec": {
   "display_name": "Python 3 (ipykernel)",
   "language": "python",
   "name": "python3"
  },
  "language_info": {
   "codemirror_mode": {
    "name": "ipython",
    "version": 3
   },
   "file_extension": ".py",
   "mimetype": "text/x-python",
   "name": "python",
   "nbconvert_exporter": "python",
   "pygments_lexer": "ipython3",
   "version": "3.7.1"
  }
 },
 "nbformat": 4,
 "nbformat_minor": 5
}
